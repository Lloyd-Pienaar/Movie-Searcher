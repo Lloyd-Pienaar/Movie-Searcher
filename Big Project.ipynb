{
 "cells": [
  {
   "cell_type": "markdown",
   "metadata": {},
   "source": [
    "# SI/ISM 224 - 2020 Project (20893582)\n",
    "\n",
    "Create a program in Python of sufficient complexity covering a majority of the programming techniques from this module and produce a high-quality Jupyter notebook to demonstrating a deep understanding of the programming concepts covered in this module."
   ]
  },
  {
   "cell_type": "markdown",
   "metadata": {},
   "source": [
    "## Section A\n",
    "\n",
    "The Movie Searcher program is designed in Python, implemented in a Jupyter Notebook, and enables a user to look up and receive information about movies from the Open Movie Database, and store and display all previously searched movies. This is achieved by using the OMDB API as well as various Python libraries. The program will display the title, release date, runtime, genre, age restriction, plot, director, actors, awards and ratings of the searched movies. \n",
    "\n",
    "The program in its entirety can be seen below:"
   ]
  },
  {
   "cell_type": "code",
   "execution_count": null,
   "metadata": {},
   "outputs": [],
   "source": [
    "import json\n",
    "import requests\n",
    "from requests.exceptions import Timeout\n",
    "\n",
    "while True: \n",
    "    \n",
    "    # testing user input to make sure it's a valid entery (integer) for menu\n",
    "    try:      \n",
    "        print(\"Welcome to the movie searcher. Please type a number from the menu and press enter.\")\n",
    "        opt1 = int(input(\"Menu:\\nEnter '1' to Search for a Movie\\nEnter '2' to see Previously Searched Movies\\nEnter '3' to Exit the program\\n\"))\n",
    "    except ValueError: \n",
    "        print(\"Invaild Input\")\n",
    "        continue    \n",
    "    \n",
    "    \n",
    "    # menu option to exit the program\n",
    "    if opt1 == 3:    \n",
    "        print(\"You have exited the program. Thank you\")\n",
    "        break\n",
    "\n",
    "    \n",
    "    else:  \n",
    "        # menu option to search for a movie  \n",
    "        if opt1 == 1:     \n",
    "            \n",
    "            movie = input(\"Please enter the name of the movie you would like to search for: \")\n",
    "            print(\"Searching for: '%s'\" % movie)\n",
    "            \n",
    "            add = movie.replace(\" \",\"+\")\n",
    "            url = \"http://www.omdbapi.com/?s=\"+add+\"&apikey=46c5ecf2\"     \n",
    "            \n",
    "            # safeguarding against potential errors when requesting url\n",
    "            try:\n",
    "                response = requests.get(url, timeout = 10)     # searching OMDB for requested movie\n",
    "                response.raise_for_status()\n",
    "            except requests.exceptions.HTTPError as error_h:                    \n",
    "                print (\"Http Error:\\nPlease try again, or consult the help documentation\\nError code: \",error_h)\n",
    "                continue\n",
    "            except requests.exceptions.ConnectionError as error_c:\n",
    "                print (\"Error Connecting:\\nPlease try again, or consult the help documentation\\nError code: \",error_c)\n",
    "                continue\n",
    "            except requests.exceptions.Timeout as error_t:\n",
    "                print (\"Timeout Error:\\nPlease try again, or consult the help documentation\\nError code: \",error_t)\n",
    "                continue\n",
    "            except requests.exceptions.RequestException as error:\n",
    "                print (\"Something went wrong:\\nPlease consult the help documentation\\nError code: \",error)\n",
    "                break   \n",
    "        \n",
    "            # converting data\n",
    "            data = response.text\n",
    "            json_data = json.loads(data) \n",
    "            \n",
    "            # test to determine if requested movie exists\n",
    "            if json_data == {\"Response\":\"False\",\"Error\":\"Movie not found!\"}:\n",
    "                print(\"Movie not found, please try again\")\n",
    "                continue\n",
    "            \n",
    "            else:   \n",
    "                movieDB = json_data[\"Search\"][0]     # selecting best result from movie data base\n",
    "                movieID = (movieDB[\"imdbID\"])     # retreving movie ID from OMDB\n",
    "\n",
    "                addID = movieID.replace(\" \",\"+\")\n",
    "                urlID = \"http://www.omdbapi.com/?i=\"+addID+\"&apikey=46c5ecf2\"    \n",
    "\n",
    "                # safeguarding against potential errors when requesting url\n",
    "                try:\n",
    "                    responseID = requests.get(urlID, timeout = 10)     # using movie ID to search for exact movie\n",
    "                    response.raise_for_status()\n",
    "                except requests.exceptions.HTTPError as error_h:\n",
    "                    print (\"Http Error:\\nPlease try again, or consult the help documentation\\nError code: \",error_h)\n",
    "                    continue\n",
    "                except requests.exceptions.ConnectionError as error_c:\n",
    "                    print (\"Error Connecting:\\nPlease try again, or consult the help documentation\\nError code: \",error_c)\n",
    "                    continue\n",
    "                except requests.exceptions.Timeout as error_t:\n",
    "                    print (\"Timeout Error:\\nPlease try again, or consult the help documentation\\nError code: \",error_t)\n",
    "                    continue\n",
    "                except requests.exceptions.RequestException as error:\n",
    "                    print (\"Something went wrong\\nPlease consult the help documentation\\nError code: \",error)\n",
    "                    break \n",
    "\n",
    "                # converting data\n",
    "                dataID = responseID.text\n",
    "                json_dataID = json.loads(dataID)    \n",
    "\n",
    "                # retrieving relevant movie info\n",
    "                title = json_dataID[\"Title\"]     \n",
    "                date = json_dataID[\"Released\"]\n",
    "                time = json_dataID[\"Runtime\"]\n",
    "                genre = json_dataID[\"Genre\"]\n",
    "                age = json_dataID[\"Rated\"]\n",
    "                plot = json_dataID[\"Plot\"]\n",
    "\n",
    "                director = json_dataID[\"Director\"]\n",
    "                actors = json_dataID[\"Actors\"]\n",
    "\n",
    "                awards = json_dataID[\"Awards\"]\n",
    "                metascore = json_dataID[\"Metascore\"]\n",
    "                imdb = json_dataID[\"imdbRating\"]\n",
    "\n",
    "                # storing movie info\n",
    "                dict1 = {\"Title\": title, \"Release Date\": date, \"Runtime\": time, \"Genre\": genre, \"Age Restriction\": age, \"Plot\": plot, \n",
    "                         \"Director\": director, \"Actors\": actors, \"Awards\": awards, \"Metascore\": metascore, \"IMDB\": imdb}\n",
    "\n",
    "                # writing data to text file\n",
    "                f = open(\"Stored_movies.txt\", \"a\")\n",
    "                f.write(\"\\n\" + str(dict1) + \"\\n\")\n",
    "                f.close()\n",
    "\n",
    "                print(\"\\nBest Result:\")\n",
    "                print(\"\\nTitle: \" + title + \"\\nRelease Date: \" + date + \"\\nRuntime: \" + time + \n",
    "                      \"\\nGenre: \" + genre + \"\\nAge Restriction: \" + age + \"\\nPlot: \" + plot)\n",
    "                print(\"\\nDirector: \" + director + \"\\nActors: \" + actors)\n",
    "                print(\"\\nAwards: \" + awards + \"\\nRating:\\tMetascore: \" + metascore + \"/100\" + \"\\n\\tIMDB: \" + imdb + \"/10\")\n",
    "        \n",
    "        \n",
    "        # menu option to see previously searched movies    \n",
    "        elif opt1 == 2:     \n",
    "            \n",
    "            # reading data from text file\n",
    "            f = open(\"Stored_movies.txt\", \"a\")\n",
    "            print(\"Previously Searched Movies:\")\n",
    "            f = open(\"Stored_movies.txt\", \"r\")\n",
    "            print(f.read())\n",
    "            f.close()\n",
    "\n",
    "        \n",
    "        # test for user input that's not a menu option\n",
    "        else:     \n",
    "            print(\"%s is not an Option\" % opt1)\n",
    "    \n",
    "    continue"
   ]
  },
  {
   "cell_type": "markdown",
   "metadata": {},
   "source": [
    "## Section B\n",
    "\n",
    "### API\n",
    "\n",
    "Application Programming Interface(API) is a software intermediary that allows two applications to talk to each other. The API that we are required to work with, The Open Movie Database(OMDB) API, is a RESTful API.\n",
    "\n",
    "A representational state transfer(REST) API, is a set of instructions that developers follow when creating an API. A RESTful API is an API that uses HTTP requests to _.get, .put, .post_ and _.delete_ data. The _.get_ function requests data from a server that can be a status or specifics. The _.put_ function revises or adds to existing information. The _.post_ function sends changes from the client to the server. The _.delete_ function deletes existing information. This program only makes use of the _.get_ function, as we only have the need to retrieve data.\n",
    "\n",
    "The RESTful API defines how applications communicate over the Hypertext Transfer Protocol(HTTP). APIs are just a set of dedicated URLs that return pure data to responses. So a user should be able to get a piece of data or resource when linked to a specific URL. Each URL needs to be requested and the data received back is called a response. The _response = requests.get(url)_ function is used to ask for and receive data.\n",
    "\n",
    "By default, all responses from the OMDB API are in JSON format. The raw data from the requested URL is now requested as basic text data that can be read by humans, with the _data = response.text_ function, but it is still unreadable by Python. The _json_data = json.loads(data)_ function formats the JSON text into data that Python can now read. \n",
    "\n",
    "An API key or application programming interface key is a code that gets passed in by computer applications. The program or application then calls the API or application programming interface to identify its user, developer or calling program to a website.\n",
    "\n",
    "To interact with the API an API key is required. The API keys are normally used to assist in tracking and controlling of how the interface is being utilized. It is also use to prevent abuse or malicious use of the API. The OMDB API key is generate on their website and a user can request a key from them.\n"
   ]
  },
  {
   "cell_type": "markdown",
   "metadata": {},
   "source": [
    "### Code Logic\n",
    "\n",
    "Each section of the code is discussed indetail, documenting the key design decisions and aspects of the logic of the coded solutions. Note that the code that is discussed has the relevent code below it.\n",
    "\n",
    "\n",
    "Firstly, the systems(sys) module needs to be installed on your device. This can be done with the \"import\" function. The systems module provides functions and variables that are used to manipulate different parts of the Python runtime environment. The runtime environment is the Python executable that will interpret your Python code. \n",
    "\n",
    "The code \"import sys {sys.executable}\" can be used to confirm that you are using the Python executable in your new environment.\n",
    "\n",
    "The Python Package Index(PyPi) is a 3rd party software repository for Python and provides a useful wrapper for us to be able to access the API. The Python wrapper for The Open Movie Database(OMDB) API is installed with \"pip install omdb\". Pip is a tool used to install and manage Python packages, and thus enables 3rd party packages to be installed. \n",
    "\n",
    "Note that this code only needs to be run once on a device, in order to install the wrapper and does not need to be in the code permanently.\n",
    "\n",
    "To install the required library from PyPi using pip in a Jupyter Notebook, the following code was used: "
   ]
  },
  {
   "cell_type": "code",
   "execution_count": null,
   "metadata": {},
   "outputs": [],
   "source": [
    "import sys\n",
    "\n",
    "!{sys.executable} -m pip install --upgrade pip\n",
    "!{sys.executable} -m pip install omdb"
   ]
  },
  {
   "cell_type": "markdown",
   "metadata": {},
   "source": [
    "In order to connect and retrieve data from the API, it is required to import the _request_ and _json_ Python libraries. The request library allows the code to retrieve URLs within Python. The OMDB responses are by default in JSON format. Python has a built-in package called json, which can be used to work with JSON data. Therefore this is the need to import the json library. \n",
    "\n",
    "The libraries are imported as follows:"
   ]
  },
  {
   "cell_type": "code",
   "execution_count": null,
   "metadata": {},
   "outputs": [],
   "source": [
    "import requests\n",
    "import json"
   ]
  },
  {
   "cell_type": "markdown",
   "metadata": {},
   "source": [
    "The _Timeout_ package is required when dealing with the API because failure to connect to the server can result in your program hanging indefinitely. It is not a time limit on the entire response downloading, but rather an exception that is raised if the server has not issued a response within the set number of timeout seconds. If no timeout is specified explicitly, requests do not time out. \n",
    "\n",
    "The timeout package is imported from the requests.exceptions library, and is done so as follows:"
   ]
  },
  {
   "cell_type": "code",
   "execution_count": null,
   "metadata": {},
   "outputs": [],
   "source": [
    "from requests.exceptions import Timeout "
   ]
  },
  {
   "cell_type": "markdown",
   "metadata": {},
   "source": [
    "After the program is run, a welcome message and instructions are displayed with a _print_ function. The menu is displayed with an _input_ function, as the user is required to make a decision. The _input_ function is paired with an _int_ function as to classify the user's decision variable as an integer. Their decision is saved as _opt1_.\n",
    "\n",
    "The _try_ and _except_ function is used to handle exceptions. This function is used to confirm that the user inputted a valid response, an integer. Without this function, the program would terminate. The _continue_ statement is used under the _except_ function to return the user to the menu if the input was invalid."
   ]
  },
  {
   "cell_type": "code",
   "execution_count": null,
   "metadata": {},
   "outputs": [
    {
     "name": "stdout",
     "output_type": "stream",
     "text": [
      "Welcome to the movie searcher. Please type a number from the menu and press enter.\n"
     ]
    }
   ],
   "source": [
    "# testing user input to make sure it's a valid entery (integer) for menu\n",
    "try:      \n",
    "    print(\"Welcome to the movie searcher. Please type a number from the menu and press enter.\")\n",
    "    opt1 = int(input(\"Menu:\\nEnter '1' to Search for a Movie\\nEnter '2' to see Previously Searched Movies\\nEnter '3' to Exit the Program\\n\"))\n",
    "except ValueError: \n",
    "    print(\"Invaild Input\")\n",
    "    continue    "
   ]
  },
  {
   "cell_type": "markdown",
   "metadata": {},
   "source": [
    "The following code was used to handle the user's menu decision. All possible decision are nested in a _while_ loop. This was done to always return the user to the initial menu after they have interacted with their previously selected option. Thus the program does not exit until the user requests to do so. \n",
    "\n",
    "_opt1_ is the variable assigned to the users choice. Firstly, an _if_ statement is used to determine if the user would like to exit the program. If _opt1_ equal 3 the program will exit with an appropriate _print_ statement, followed by a _break_ statement. The _break_ statement exits the _while_ loop and ends the program.\n",
    "\n",
    "Options 1 and 2 are nested within the appropriate _else_ statement attached to the previous _if_ statement. This controls the other two options the user has and catches any invalid options. All the functions within the _else_ statement with end with the _continue_ function at the end of the code in order to return the user to the main menu and not exit the program. If the user selects option 1, an _if_ statement is run. If the user selects option 2, an _elif_ statement is executed. This is followed by an _else_ statement that tests if _opt1_ is a valid integer. If not the user is informed with a _print_ statement, and is returned to the main menu."
   ]
  },
  {
   "cell_type": "code",
   "execution_count": null,
   "metadata": {},
   "outputs": [],
   "source": [
    "while True:    \n",
    "    \n",
    "    # menu option to exit the program\n",
    "    if opt1 == 3:    \n",
    "        print(\"You have exited the program. Thank you\")\n",
    "        break\n",
    "\n",
    "    else:  \n",
    "        # menu option to search for a movie  \n",
    "        if opt1 == 1:     \n",
    "            \n",
    "        # menu option to see previously searched movies    \n",
    "        elif opt1 == 2:     \n",
    "            \n",
    "        # test for user input that's not a menu option\n",
    "        else:     \n",
    "            print(\"%s is not an Option\" % opt1)\n",
    "    \n",
    "    continue"
   ]
  },
  {
   "cell_type": "markdown",
   "metadata": {},
   "source": [
    "If the user selects option 1, to search for a movie, the following code is executed:"
   ]
  },
  {
   "cell_type": "code",
   "execution_count": null,
   "metadata": {},
   "outputs": [],
   "source": [
    "        movie = input(\"Please enter the name of the movie you would like to search for: \")\n",
    "        print(\"Searching for: '%s'\" % movie)\n",
    "        \n",
    "        add = movie.replace(\" \",\"+\")\n",
    "        url = \"http://www.omdbapi.com/?s=\"+add+\"&apikey=46c5ecf2\"     \n",
    "            \n",
    "        # safeguarding against potential errors when requesting url\n",
    "        try:\n",
    "            response = requests.get(url, timeout = 10)     # searching OMDB for requested movie\n",
    "            response.raise_for_status()\n",
    "        except requests.exceptions.HTTPError as error_h:                    \n",
    "            print (\"Http Error:\\nPlease try again, or consult the help documentation\\nError code: \",error_h)\n",
    "            continue\n",
    "        except requests.exceptions.ConnectionError as error_c:\n",
    "            print (\"Error Connecting:\\nPlease try again, or consult the help documentation\\nError code: \",error_c)\n",
    "            continue\n",
    "        except requests.exceptions.Timeout as error_t:\n",
    "            print (\"Timeout Error:\\nPlease try again, or consult the help documentation\\nError code: \",error_t)\n",
    "            continue\n",
    "        except requests.exceptions.RequestException as error:\n",
    "            print (\"Something went wrong:\\nPlease consult the help documentation\\nError code: \",error_)\n",
    "            break     \n",
    "        \n",
    "        # converting data\n",
    "        data = response.text\n",
    "        json_data = json.loads(data) \n",
    "            \n",
    "        # test to determine if requested movie exists\n",
    "        if json_data == {\"Response\":\"False\",\"Error\":\"Movie not found!\"}:\n",
    "            print(\"Movie not found, please try again\")\n",
    "            continue\n",
    "            \n",
    "        else:   \n",
    "            movieDB = json_data[\"Search\"][0]     # selecting best result from movie data base\n",
    "            movieID = (movieDB[\"imdbID\"])     # retreving movie ID from OMDB\n",
    "\n",
    "            addID = movieID.replace(\" \",\"+\")\n",
    "            urlID = \"http://www.omdbapi.com/?i=\"+addID+\"&apikey=46c5ecf2\"    \n",
    "\n",
    "            # safeguarding against potential errors when requesting url\n",
    "            try:\n",
    "                responseID = requests.get(urlID, timeout = 10)     # using movie ID to search for exact movie\n",
    "                response.raise_for_status()\n",
    "            except requests.exceptions.HTTPError as error_h:\n",
    "                print (\"Http Error:\\nPlease try again, or consult the help documentation\\nError code: \",error_h)\n",
    "                continue\n",
    "            except requests.exceptions.ConnectionError as error_c:\n",
    "                print (\"Error Connecting:\\nPlease try again, or consult the help documentation\\nError code: \",error_c)\n",
    "                continue\n",
    "            except requests.exceptions.Timeout as error_t:\n",
    "                print (\"Timeout Error:\\nPlease try again, or consult the help documentation\\nError code: \",error_t)\n",
    "                continue\n",
    "            except requests.exceptions.RequestException as error:\n",
    "                print (\"Something went wrong\\nPlease consult the help documentation\\nError code: \",error)\n",
    "                break \n",
    "                \n",
    "            # converting data\n",
    "            dataID = responseID.text\n",
    "            json_dataID = json.loads(dataID)    \n",
    "\n",
    "            # retrieving relevant movie info\n",
    "            title = json_dataID[\"Title\"]     \n",
    "            date = json_dataID[\"Released\"]\n",
    "            time = json_dataID[\"Runtime\"]\n",
    "            genre = json_dataID[\"Genre\"]\n",
    "            age = json_dataID[\"Rated\"]\n",
    "            plot = json_dataID[\"Plot\"]\n",
    "\n",
    "            director = json_dataID[\"Director\"]\n",
    "            actors = json_dataID[\"Actors\"]\n",
    "\n",
    "            awards = json_dataID[\"Awards\"]\n",
    "            metascore = json_dataID[\"Metascore\"]\n",
    "            imdb = json_dataID[\"imdbRating\"]\n",
    "\n",
    "            # storing movie info\n",
    "            dict1 = {\"Title\": title, \"Release Date\": date, \"Runtime\": time, \"Genre\": genre, \"Age Restriction\": age, \"Plot\": plot, \n",
    "                     \"Director\": director, \"Actors\": actors, \"Awards\": awards, \"Metascore\": metascore, \"IMDB\": imdb}\n",
    "\n",
    "            # writing data to text file\n",
    "            f = open(\"Stored_movies.txt\", \"a\")\n",
    "            f.write(\"\\n\" + str(dict1) + \"\\n\")\n",
    "            f.close()\n",
    "\n",
    "            print(\"\\nBest Result:\")\n",
    "            print(\"\\nTitle: \" + title + \"\\nRelease Date: \" + date + \"\\nRuntime: \" + time + \n",
    "                  \"\\nGenre: \" + genre + \"\\nAge Restriction: \" + age + \"\\nPlot: \" + plot)\n",
    "            print(\"\\nDirector: \" + director + \"\\nActors: \" + actors)\n",
    "            print(\"\\nAwards: \" + awards + \"\\nRating:\\tMetascore: \" + metascore + \"/100\" + \"\\n\\tIMDB: \" + imdb + \"/10\")"
   ]
  },
  {
   "cell_type": "markdown",
   "metadata": {},
   "source": [
    "The user's movie search is asked as an _input_ statement and is saved a variable called _movie_. A _print_ statement is used to confirm that their selected movie is being searched for.\n",
    "\n",
    "A _.replace_ function is used to make sure that the movie that the user searched for can be added to the URL without errors before the URL is searched for. The movie title is now added to the OMDB URL, along with the API key. The API key is vital to the URL because it is used to authenticate the URL request.\n",
    "\n",
    "Importantly an _s_ parameter is used, in the URL, to search for multiple movies that contain the same keyword(s) that the user requested for their movie. The results are therefore multiple movies under the same or similar name. The _s_ parameter has the benefit of finding a result even if the user is slightly off with their search, compared to the _t_ parameter, which searches for the exact title of the movie."
   ]
  },
  {
   "cell_type": "code",
   "execution_count": null,
   "metadata": {},
   "outputs": [],
   "source": [
    "            movie = input(\"Please enter the name of the movie you would like to search for: \")\n",
    "            print(\"Searching for: '%s'\" % movie)\n",
    "            \n",
    "            add = movie.replace(\" \",\"+\")\n",
    "            url = \"http://www.omdbapi.com/?s=\"+add+\"&apikey=46c5ecf2\"   "
   ]
  },
  {
   "cell_type": "markdown",
   "metadata": {},
   "source": [
    "The next block of code serves a few functions. Firstly, the URL containing the requested movie is now searched for with the _request.get_ function and is saved as the variable _response_. This response is the raw data from the requested URL. Secondly, a _try_ and _except_ function is used together with a _request.exceptions_ function to find potential errors when requesting information from the URL. It is more efficient to run the error search from specific errors to more general errors. This is to prevent specific ones from getting masked by the general ones. \n",
    "\n",
    "• In the event of an invalid HTTP response, the request will raise an HTTPError exception. \n",
    "\n",
    "• In the event of a network problem, for example, a DNS failure, refused connection, the request will raise a ConnectionError exception.\n",
    "\n",
    "• If the request times out, a Timeout exception will be raised.\n",
    "\n",
    "• All exceptions that the request explicitly raises are inherit from requests.exceptions.RequestException. A _break_ statement is used here because any error found here generally means the program should stop running. \n",
    "\n",
    "All other errors use a _continue_ statement to take the user back the main menu, in hopes the error will be resolved by retrying the search. "
   ]
  },
  {
   "cell_type": "code",
   "execution_count": null,
   "metadata": {},
   "outputs": [],
   "source": [
    "            # safeguarding against potential errors when requesting url\n",
    "            try:\n",
    "                response = requests.get(url, timeout = 10)     # searching OMDB for requested movie\n",
    "                response.raise_for_status()\n",
    "            except requests.exceptions.HTTPError as error_h:                    \n",
    "                print (\"Http Error:\\nPlease try again, or consult the help documentation\\nError code: \",error_h)\n",
    "                continue\n",
    "            except requests.exceptions.ConnectionError as error_c:\n",
    "                print (\"Error Connecting:\\nPlease try again, or consult the help documentation\\nError code: \",error_c)\n",
    "                continue\n",
    "            except requests.exceptions.Timeout as error_t:\n",
    "                print (\"Timeout Error:\\nPlease try again, or consult the help documentation\\nError code: \",error_t)\n",
    "                continue\n",
    "            except requests.exceptions.RequestException as error:\n",
    "                print (\"Something went wrong:\\nPlease consult the help documentation\\nError code: \",error_)\n",
    "                break   "
   ]
  },
  {
   "cell_type": "markdown",
   "metadata": {},
   "source": [
    "The raw data from the requested URL is now requested as basic text data that can be read by humans, with the _.text_ function, but it is still unreadable by Python. The _json.loads_ function formats the JSON text into data that Python can now read."
   ]
  },
  {
   "cell_type": "code",
   "execution_count": null,
   "metadata": {},
   "outputs": [],
   "source": [
    "            # converting data            \n",
    "            data = response.text\n",
    "            json_data = json.loads(data) "
   ]
  },
  {
   "cell_type": "markdown",
   "metadata": {},
   "source": [
    "The json data from the URL is now tested to see if the movie requested by the user exists with the _if else_ statement. If the movie is not found, the user is informed with a _print_ statement and is returned to the main menu. If the movie is found the code continues to the _else_ statement. "
   ]
  },
  {
   "cell_type": "code",
   "execution_count": null,
   "metadata": {},
   "outputs": [],
   "source": [
    "            # test to determine if requested movie exists\n",
    "            if json_data == {\"Response\":\"False\",\"Error\":\"Movie not found!\"}:\n",
    "                print(\"Movie not found, please try again\")\n",
    "                continue\n",
    "            \n",
    "            else:   "
   ]
  },
  {
   "cell_type": "markdown",
   "metadata": {},
   "source": [
    "Now a potential movie has been found, the first movie is selected with _[\"Search\"][0]_. From the first movie, we extract the imdbID, with this ID we can gather all the relevant, detailed data about the movie that we would like. \n",
    "\n",
    "Then with the ID of the movie that was selected, it is reinserted into the URL with the API key and the _i_ parameter. The _i_ parameter is used to confirm that an imdbID is being used in the URL."
   ]
  },
  {
   "cell_type": "code",
   "execution_count": null,
   "metadata": {},
   "outputs": [],
   "source": [
    "                movieDB = json_data[\"Search\"][0]     # selecting best result from movie data base\n",
    "                movieID = (movieDB[\"imdbID\"])     # retreving movie ID from OMDB\n",
    "\n",
    "                addID = movieID.replace(\" \",\"+\")\n",
    "                urlID = \"http://www.omdbapi.com/?i=\"+addID+\"&apikey=46c5ecf2\" "
   ]
  },
  {
   "cell_type": "markdown",
   "metadata": {},
   "source": [
    "The same block of code is used again, however with slightly different variable names, to request the URL with the movie ID and search for potential errors while doing so."
   ]
  },
  {
   "cell_type": "code",
   "execution_count": null,
   "metadata": {},
   "outputs": [],
   "source": [
    "                # safeguarding against potential errors when requesting url\n",
    "                try:\n",
    "                    responseID = requests.get(urlID, timeout = 10)     # using movie ID to search for exact movie\n",
    "                    response.raise_for_status()\n",
    "                except requests.exceptions.HTTPError as error_h:\n",
    "                    print (\"Http Error:\\nPlease try again, or consult the help documentation\\nError code: \",error_h)\n",
    "                    continue\n",
    "                except requests.exceptions.ConnectionError as error_c:\n",
    "                    print (\"Error Connecting:\\nPlease try again, or consult the help documentation\\nError code: \",error_c)\n",
    "                    continue\n",
    "                except requests.exceptions.Timeout as error_t:\n",
    "                    print (\"Timeout Error:\\nPlease try again, or consult the help documentation\\nError code: \",error_t)\n",
    "                    continue\n",
    "                except requests.exceptions.RequestException as error:\n",
    "                    print (\"Something went wrong\\nPlease consult the help documentation\\nError code: \",error)\n",
    "                    break "
   ]
  },
  {
   "cell_type": "markdown",
   "metadata": {},
   "source": [
    "The same code that was used previously is used again to convert the raw data into data that Python can read and can extract the movie data from. \n",
    "\n",
    "The raw data from the requested URL is now requested as basic text data, with the _.text_ function, but it is still unreadable by Python. The _json.loads_ function formats the JSON text into data that Python can now read."
   ]
  },
  {
   "cell_type": "code",
   "execution_count": null,
   "metadata": {},
   "outputs": [],
   "source": [
    "                # converting data\n",
    "                dataID = responseID.text\n",
    "                json_dataID = json.loads(dataID) "
   ]
  },
  {
   "cell_type": "markdown",
   "metadata": {},
   "source": [
    "The data that is required for the user is now extracted and organised as follows:"
   ]
  },
  {
   "cell_type": "code",
   "execution_count": null,
   "metadata": {},
   "outputs": [],
   "source": [
    "                # retrieving relevant movie info\n",
    "                title = json_dataID[\"Title\"]     \n",
    "                date = json_dataID[\"Released\"]\n",
    "                time = json_dataID[\"Runtime\"]\n",
    "                genre = json_dataID[\"Genre\"]\n",
    "                age = json_dataID[\"Rated\"]\n",
    "                plot = json_dataID[\"Plot\"]\n",
    "\n",
    "                director = json_dataID[\"Director\"]\n",
    "                actors = json_dataID[\"Actors\"]\n",
    "\n",
    "                awards = json_dataID[\"Awards\"]\n",
    "                metascore = json_dataID[\"Metascore\"]\n",
    "                imdb = json_dataID[\"imdbRating\"]"
   ]
  },
  {
   "cell_type": "markdown",
   "metadata": {},
   "source": [
    "The extracted movie data is now displayed for the user, in a neat, organised manner. Using _print_ statements and _\\n_ functions to get the desired layout."
   ]
  },
  {
   "cell_type": "code",
   "execution_count": null,
   "metadata": {},
   "outputs": [],
   "source": [
    "                print(\"\\nBest Result:\")\n",
    "                print(\"\\nTitle: \" + title + \"\\nRelease Date: \" + date + \"\\nRuntime: \" + time + \n",
    "                      \"\\nGenre: \" + genre + \"\\nAge Restriction: \" + age + \"\\nPlot: \" + plot)\n",
    "                print(\"\\nDirector: \" + director + \"\\nActors: \" + actors)\n",
    "                print(\"\\nAwards: \" + awards + \"\\nRating:\\tMetascore: \" + metascore + \"/100\" + \"\\n\\tIMDB: \" + imdb + \"/10\")"
   ]
  },
  {
   "cell_type": "markdown",
   "metadata": {},
   "source": [
    "To save all the users searched movies for menu option 2, all the data must be put into a dictionary. This dictionary is called _dict1_ and contains all the movie details. The dictionary stores the data in a neat, easily recallable state. Each time a movie is searched _dict1_ stores the current movie's data. It is written to a text file each time, so the data is not permanently lost.\n",
    "\n",
    "With the information stored in a dictionary, a text file can be made and opened with _f = open(\"Stored_movies.txt\", \"a\")_. The _f = open_ function opens the text file call _Stored_movies_. The _\"a\"_ parameter allows the file to be appended, meaning it can write to the file and any information written to it will be added to the end of of the previous text in the file. This allows all movies to be saved, and not just the most recently searched movie, as with the _w_ parameter.\n",
    "\n",
    "_dict1_ is now written to the text file with the _f.write(str(dict1))_ function. _\"\\n\"_ is used to help display the data in an organised manner. \n",
    "\n",
    "The text file then needs to be closed, this is done with the _f.close_ function. "
   ]
  },
  {
   "cell_type": "code",
   "execution_count": null,
   "metadata": {},
   "outputs": [],
   "source": [
    "        dict1 = {\"Title\": title, \"Release Date\": date, \"Runtime\": time, \"Genre\": genre, \"Age Restriction\": age, \"Plot\": plot, \n",
    "                 \"Director\": director, \"Actors\": actors, \"Awards\": awards, \"Metascore\": metascore, \"IMDB\": imdb}\n",
    "\n",
    "                # writing data to text file\n",
    "                f = open(\"Stored_movies.txt\", \"a\")\n",
    "                f.write(\"\\n\" + str(dict1) + \"\\n\")\n",
    "                f.close()"
   ]
  },
  {
   "cell_type": "markdown",
   "metadata": {},
   "source": [
    "If menu option 2 is selected, all previously searched movies need to be displayed. _f = open(\"Stored_movies.txt\", \"a\")_ is used to prevent the programming from crashing if the user selects option 2 without having searched any movies. It does this by writing a file, before trying to read a file that does not exist. A _print_ statement is used to inform the user what is being displayed. \n",
    "\n",
    "_f = open(\"Stored_movies.txt\", \"r\")_ is used to open the Stored_movies file in a read mode, this done with _\"r\"_ parameter. So now the file can only be read from. The stored information is then displayed to the user with the _print(f.read())_ function and the file is then closed."
   ]
  },
  {
   "cell_type": "code",
   "execution_count": null,
   "metadata": {},
   "outputs": [],
   "source": [
    "            # reading data from text file\n",
    "            f = open(\"Stored_movies.txt\", \"a\")\n",
    "            print(\"Previously Searched Movies:\")\n",
    "            f = open(\"Stored_movies.txt\", \"r\")\n",
    "            print(f.read())\n",
    "            f.close()"
   ]
  },
  {
   "cell_type": "markdown",
   "metadata": {},
   "source": [
    "### Help Document \n",
    "\n",
    "This document was created to explain all possible user options and potential error messages with their respective solutions. \n",
    "\n",
    "To use the movie search program, the user must first run the cell. This is done by clicking on the _Run_ button on the toolbar above. Once running, an introductory print statement welcomes the user to the movie searcher and explains how to use the menu. A second print statement displays the menu options. The user must enter the number of their desired choice in the open text box and press the _Enter_ key on the user's keyboard.\n",
    "\n",
    "The menu displays as follows:\n",
    "\n",
    "Enter '1' to Search for a Movie\n",
    "\n",
    "Enter '2' to see Previously Searched Movies\n",
    "\n",
    "Enter '3' to Exit\n",
    "\n",
    "If the user enters anything other than a number, the message of \"Invalid Input\" will be displayed. The user will then receive the menu again and be asked to enter the number of their desired choice. \n",
    "\n",
    "If the user enters a number that is not one of the available options, they will receive the message, \"_number entered_ is not an option\". The user will then receive the menu again and be asked to enter the number of their desired choice. \n",
    "\n",
    "If the user chooses option 1 correctly, they will receive the message, \"Please enter the name of the movie you would like to search for:\". The user is then required to enter the title of any movie they would like to search for and then press the _Enter_ key on the user's keyboard. The movie search is not case sensitive. If done correctly the message, \"Searching for:  _movie entered_\" will be displayed, and the program will search for the requested movie.\n",
    "\n",
    "If the movie is found and no errors appear, all the requested movie's details will be displayed, and the menu will be displayed for the user again. The search system will display the movie details of the movie that best fits the keyword(s) entered by the user in the text box, and may not always display to correct movie the user is searching for. The system may display a movie of the same name that the user was not anticipating, for example, remakes of movies that are made with the same title. \n",
    "\n",
    "If the movie does not exist, the message, \"Movie not found, please try again\" will be displayed and the user will be taken to the menu again. \n",
    "\n",
    "If there is an error while requesting the data from the API, one of the four error messages will display along with actual error code:\n",
    "\n",
    "1. \"Http Error: Please try again, or consult the help documentation. Error code:\" \n",
    "In the event of an Http Error, there may be a problem with URL or how the movie was searched. Try to search for a movie without using symbols. The user will be taken back to the menu to try again.\n",
    "\n",
    "2. \"Error Connecting: Please try again, or consult the help documentation. Error code:\"\n",
    "In the event of an Error Connecting, try checking the internet connection or the website may be down or unavailable. The user will be taken back to the menu to try again.\n",
    "\n",
    "3. \"Timeout Error: Please try again, or consult the help documentation. Error code:\" \n",
    "In the event of a Timeout Error, just try again or the website may be down. The user will be taken back to the menu to try again.\n",
    "\n",
    "4. \"Something went wrong. Please consult the help documentation. Error code:\"\n",
    "In the event of the error message \"Something went wrong\", report the problem to the developer. In this case, the program will be terminated as there may be a bigger issue.\n",
    " \n",
    "If the user chooses option 2 correctly, they will receive the message, \"Previously Searched Movies:\" followed by any movies searched prior to selecting option 2. The movies are stored in a text file named _Stored_movies_, on the user's computer. The user will then receive the menu again and be asked to enter the number of their desired choice. \n",
    "\n",
    "If the user chooses option 3 correctly, the program will display the message, \"You have exited the program. Thank you\" and the program will be terminated."
   ]
  },
  {
   "cell_type": "markdown",
   "metadata": {},
   "source": [
    "### Retrospective \n",
    "\n",
    "The retrospective intends to reflect on the problems encountered during the development of the program and how the problems were solved. Furthermore what improvements could be made to the final program.\n",
    "\n",
    "#### Problems and solutions:\n",
    "\n",
    "The first problem encountered was, \"What an API is?\" and \"How to use an API?\". These two questions were the first challenge, and through reading lots of articles and multiple YouTube videos, my knowledge began to grow on how to implement the API. Through many examples and iterations, the implementation of the API began to work. \n",
    "\n",
    "The next problem was implementing the _request.exceptions_ function, to prevent unforeseen crashes and errors. This was solved through lots of Stack Overflow pages and trail and error. Eventually getting the block of code working and covering all the bases of potential server/connection issues, if they arise.\n",
    "\n",
    "Working with json and the API and converting it into something that Python can handle was another problem encountered. Again this was solved through lots of Stack Overflow pages and trail and error. \n",
    "\n",
    "Writing and reading to and from a text file was another smaller challenge but was quickly fixed with help from the textbook, \"Python for Everybody, Exploring Data Using Python 3\". Also creating a text file on the user's computer was better than making the file beforehand and then trying to find it and read and write to it. This also means that the code is standalone and does not need to have an attached .txt file, with the _f = open(\"Stored_movies.txt\", \"a\")_. The \"_a_\" parameter also allowed to store all the previously searched movie and not just the most recent movie search\n",
    "\n",
    "#### Improvements:\n",
    "\n",
    "The program went through numerous iterations and was constantly updated and rewritten throughout the past few weeks. Trying to find improvements and more efficient manners in which to implement different modules and blocks of code. A few improvements can still be made.\n",
    "\n",
    "One of the biggest problems, when you search for a movie, the program searches for the closest movie that corresponds to the users keyword(s) that they entered, and then selects the first option from OMDB and returns the details of that selected movie. However, if there are multiple movies with the same name, the program just returns the first result that OMDB displays. So the code is at the mercy of how OMDB orders their movies with the same name. I was unable to provide a solution to this problem.\n",
    "\n",
    "Overall, I have doubts about the manner and the efficiency of how the API was implemented and is used. My knowledge around APIs still needs improvement, however in the end though I feel I do have a program that runs smoothly with no errors or crashes. Also, the use of Object-oriented programming was not used in the program, because I felt as though I did not know enough about the topic to implement it well. I did, however, find that I didn't need to use it as I found alternative ways to code my program.\n",
    "\n",
    "#### Experience:\n",
    "\n",
    "I am grateful for the experience I've gained over the course of this project and it has differently improved my coding skills greatly. I've come along way and still along way to got before mastery of Python."
   ]
  }
 ],
 "metadata": {
  "kernelspec": {
   "display_name": "Python 3",
   "language": "python",
   "name": "python3"
  },
  "language_info": {
   "codemirror_mode": {
    "name": "ipython",
    "version": 3
   },
   "file_extension": ".py",
   "mimetype": "text/x-python",
   "name": "python",
   "nbconvert_exporter": "python",
   "pygments_lexer": "ipython3",
   "version": "3.7.4"
  }
 },
 "nbformat": 4,
 "nbformat_minor": 2
}
